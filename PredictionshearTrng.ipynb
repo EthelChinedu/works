{
 "cells": [
  {
   "cell_type": "code",
   "execution_count": 73,
   "metadata": {
    "collapsed": false
   },
   "outputs": [
    {
     "ename": "SyntaxError",
     "evalue": "invalid syntax (<ipython-input-73-3d01e616c23b>, line 61)",
     "output_type": "error",
     "traceback": [
      "\u001b[0;36m  File \u001b[0;32m\"<ipython-input-73-3d01e616c23b>\"\u001b[0;36m, line \u001b[0;32m61\u001b[0m\n\u001b[0;31m    namez = []\u001b[0m\n\u001b[0m        ^\u001b[0m\n\u001b[0;31mSyntaxError\u001b[0m\u001b[0;31m:\u001b[0m invalid syntax\n"
     ]
    }
   ],
   "source": [
    "import numpy\n",
    "from numpy import arange\n",
    "from pandas import read_csv\n",
    "from matplotlib import pyplot\n",
    "from pandas import set_option\n",
    "from pandas.tools.plotting import scatter_matrix\n",
    "from sklearn.model_selection import train_test_split\n",
    "from sklearn.preprocessing import StandardScaler\n",
    "from sklearn.model_selection import KFold\n",
    "from sklearn.model_selection import cross_val_score\n",
    "from sklearn.model_selection import GridSearchCV\n",
    "from sklearn.linear_model import LinearRegression\n",
    "from sklearn.linear_model import Lasso\n",
    "from sklearn.linear_model import ElasticNet\n",
    "from sklearn.tree import DecisionTreeRegressor\n",
    "from sklearn.neighbors import KNeighborsRegressor\n",
    "from sklearn.svm import SVR\n",
    "from sklearn.pipeline import Pipeline\n",
    "from sklearn.ensemble import RandomForestRegressor\n",
    "from sklearn.ensemble import GradientBoostingRegressor\n",
    "from sklearn.ensemble import ExtraTreesRegressor\n",
    "from sklearn.ensemble import AdaBoostRegressor\n",
    "from sklearn.metrics import mean_squared_error\n",
    "filename = 'shearTrng1.csv'\n",
    "names = ['H59', 'H51', 'H30', 'H10', 'Mean59', 'SD59', 'Max59', 'Min59', 'Mean51', \n",
    "       'SD51', 'Max51', 'Min51', 'Mean30', 'SD30', 'Max30', 'Min30', 'Mean10',\n",
    "      'SD10', 'Max10', 'Min10','WD59', 'WD10', 'WD51', 'Temp', 'MinTemp', 'MaxTemp', 'MaxWD', 'MinWD', 'Date', 'Time' ]\n",
    "series = read_csv(filename, names=names)\n",
    "windsp = series.iloc[:,4:20]\n",
    "array = windsp.values\n",
    "X = array[:,0:16]\n",
    "Y = array[:,15]\n",
    "validation_size = 0.20\n",
    "seed = 7\n",
    "X_train, X_validation, Y_train, Y_validation = train_test_split(X, Y, test_size=validation_size, random_state=seed)\n",
    "#Test option and evaluation metric\n",
    "num_folds = 10\n",
    "seed = 7\n",
    "scoring = 'neg_mean_squared_error'\n",
    "#spot-check Algorithms\n",
    "models = []\n",
    "#models.append(('LR', LinearRegression()))\n",
    "#models.append(('LASSO', Lasso()))\n",
    "#models.append(('KNN', KNeighborsRegressor()))\n",
    "#models.append(('EN', ElasticNet()))\n",
    "#models.append(('CART', DecisionTreeRegressor()))\n",
    "#models.append(('SVR', SVR()))\n",
    "#model evaluation in turn\n",
    "pipelines = []\n",
    "pipelines.append(('ScaledLR', Pipeline([('Scaler', StandardScaler()),('LR', \n",
    "    LinearRegression())])))\n",
    "pipelines.append(('ScaledLASSO', Pipeline([('Scaler', StandardScaler()),('LASSO',\n",
    "    Lasso())])))\n",
    "pipelines.append(('ScaledEN', Pipeline([('Scaler', StandardScaler()),('EN', \n",
    "    ElasticNet())])))\n",
    "pipelines.append(('ScaledKNN', Pipeline([('Scaler', StandardScaler()),('KNN' ,\n",
    "    KNeighborsRegressor())])))\n",
    "pipelines.append(('ScaledCART', Pipeline([('Scaler', StandardScaler()),('CART',\n",
    "    DecisionTreeRegressor())])))\n",
    "pipelines.append(('ScaledSVR', Pipeline([('Scaler' , StandardScaler()),('SVR', SVR())])\n",
    "namez = []\n",
    "                  results = []\n",
    "for name, model in pipelines:\n",
    "    kfold = KFold(n_splits=num_folds, random_state=seed)\n",
    "    cv_results = cross_val_score(model, X_train, Y_train, cv=kfold, scoring=scoring)\n",
    "    results.append(cv_results)\n",
    "    namez.append(name)\n",
    "    msg = '%s: %f (%f)' % (name, cv_results.mean(), cv_results.std())\n",
    "    print(msg)\n",
    "#Compare Algorithms\n",
    "#fig = pyplot.figure()\n",
    "#fig.suptitle('Scaled_Algorithm_Comparison')\n",
    "#ax = fig.add_subplot(111)\n",
    "#ax.set_xticklabels(names)\n",
    "\n",
    "\n",
    "#print(windsp.isnull())\n",
    "#print(windsp.dtypes)\n",
    "#print(windsp.head())\n",
    "#set_option('precision', 1)\n",
    "#print(windsp.describe())\n",
    "#set_option('precision', 2)\n",
    "#print(windsp.corr(method='pearson'))\n",
    "#windsp.hist(sharex=False, sharey=False, xlabelsize=1, ylabelsize=1)\n",
    "#windsp.plot(kind='density', subplots=True, layout=(4,4), sharex=False, legend=False, fontsize=1)\n",
    "#windsp.plot(kind='box', subplots=True, layout=(4,4), sharex=False, legend=False, fontsize=8)\n",
    "#scatter_matrix(windsp)\n",
    "#print(windsp.shape)\n",
    "#windsp.plot()\n",
    "#pyplot.show()"
   ]
  },
  {
   "cell_type": "code",
   "execution_count": null,
   "metadata": {
    "collapsed": true
   },
   "outputs": [],
   "source": []
  },
  {
   "cell_type": "code",
   "execution_count": null,
   "metadata": {
    "collapsed": true
   },
   "outputs": [],
   "source": []
  }
 ],
 "metadata": {
  "kernelspec": {
   "display_name": "Python 3",
   "language": "python",
   "name": "python3"
  },
  "language_info": {
   "codemirror_mode": {
    "name": "ipython",
    "version": 3
   },
   "file_extension": ".py",
   "mimetype": "text/x-python",
   "name": "python",
   "nbconvert_exporter": "python",
   "pygments_lexer": "ipython3",
   "version": "3.6.0"
  }
 },
 "nbformat": 4,
 "nbformat_minor": 2
}
